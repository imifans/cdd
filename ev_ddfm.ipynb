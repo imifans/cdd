{
 "cells": [
  {
   "cell_type": "code",
   "execution_count": 1,
   "metadata": {},
   "outputs": [],
   "source": [
    "from net import Restormer_Encoder, Restormer_Decoder, BaseFeatureExtraction, DetailFeatureExtraction\n",
    "import os\n",
    "import numpy as np\n",
    "from utils.Evaluator import Evaluator\n",
    "import torch\n",
    "import torch.nn as nn\n",
    "from utils.img_read_save import img_save,image_read_cv2\n",
    "import warnings\n",
    "import logging\n",
    "import random\n",
    "warnings.filterwarnings(\"ignore\")\n",
    "logging.basicConfig(level=logging.CRITICAL)\n"
   ]
  },
  {
   "cell_type": "markdown",
   "metadata": {},
   "source": [
    "通用的校验工具，只需要更改路径"
   ]
  },
  {
   "cell_type": "code",
   "execution_count": 30,
   "metadata": {},
   "outputs": [],
   "source": [
    "\n",
    "def evluate_IVF(item):\n",
    "    eval_folder=f\"/home/2021/hexin/XJ2/Result/{item}\"  \n",
    "    # ori_img_folder=\"/home/2021/hexin/XJ2/DataSet/RoadScene\"     \n",
    "    # 获取 fi 文件夹下的所有文件名列表\n",
    "    all_files = os.listdir(os.path.join(eval_folder,\"fi\"))\n",
    "    evaluation_results = {}\n",
    "    all_files = random.sample(all_files, 20)\n",
    "    metric_result = np.zeros((8))\n",
    "    for img_name in all_files:\n",
    "            ir = image_read_cv2(os.path.join(eval_folder,\"ir\", img_name), 'GRAY')\n",
    "            vi = image_read_cv2(os.path.join(eval_folder,\"vi\", img_name), 'GRAY')\n",
    "            fi = image_read_cv2(os.path.join(eval_folder,\"fi\", img_name), 'GRAY')\n",
    "            res = np.array([Evaluator.EN(fi), Evaluator.SD(fi)\n",
    "                                        , Evaluator.SF(fi), Evaluator.MI(fi, ir, vi)\n",
    "                                        , Evaluator.SCD(fi, ir, vi), Evaluator.VIFF(fi, ir, vi)\n",
    "                                        , Evaluator.Qabf(fi, ir, vi), Evaluator.SSIM(fi, ir, vi)])\n",
    "            evaluation_results[img_name] = np.round(res, 2)\n",
    "            metric_result += res\n",
    "            print(img_name)\n",
    "    print(\"=\"*80)\n",
    "\n",
    "    metric_result /= len(all_files)\n",
    "    print(\"\\t EN\\t SD\\t SF\\t MI\\tSCD\\tVIF\\tQabf\\tSSIM\")\n",
    "    print(item+'\\t'+str(np.round(metric_result[0], 2))+'\\t'\n",
    "            +str(np.round(metric_result[1], 2))+'\\t'\n",
    "            +str(np.round(metric_result[2], 2))+'\\t'\n",
    "            +str(np.round(metric_result[3], 2))+'\\t'\n",
    "            +str(np.round(metric_result[4], 2))+'\\t'\n",
    "            +str(np.round(metric_result[5], 2))+'\\t'\n",
    "            +str(np.round(metric_result[6], 2))+'\\t'\n",
    "            +str(np.round(metric_result[7], 2))\n",
    "            )\n",
    "    print(\"=\"*80)\n",
    "    filename  = f\"evaluation_results_{item}_.txt\"\n",
    "    with open(filename, 'w') as f:\n",
    "        for img_name, result in evaluation_results.items():\n",
    "                result_str = ','.join(map(str, result))  # 将评估结果转换为逗号分隔的字符串\n",
    "                f.write(f\"{img_name},{result_str}\\n\")    # 将图像名和评估结果写入文件，每行一个\n",
    "        print(f\"评估结果已保存到 {filename} 文件中。\")"
   ]
  },
  {
   "cell_type": "code",
   "execution_count": 31,
   "metadata": {},
   "outputs": [
    {
     "name": "stdout",
     "output_type": "stream",
     "text": [
      "FLIR_00311.png\n",
      "FLIR_05201.png\n",
      "FLIR_07060.png\n",
      "FLIR_01130.png\n",
      "FLIR_00122.png\n",
      "FLIR_03909.png\n",
      "FLIR_06876.png\n",
      "FLIR_05767.png\n",
      "FLIR_06621.png\n",
      "FLIR_05252.png\n",
      "FLIR_05064.png\n",
      "FLIR_06219.png\n",
      "FLIR_07202.png\n",
      "FLIR_04943.png\n",
      "FLIR_08954.png\n",
      "FLIR_06962.png\n",
      "FLIR_05164.png\n",
      "FLIR_04512.png\n",
      "FLIR_07190.png\n",
      "FLIR_05697.png\n",
      "================================================================================\n",
      "\t EN\t SD\t SF\t MI\tSCD\tVIF\tQabf\tSSIM\n",
      "DDFM\t7.15\t39.55\t11.53\t1.89\t1.6\t0.53\t0.41\t0.94\n",
      "================================================================================\n",
      "评估结果已保存到 evaluation_results_DDFM_.txt 文件中。\n",
      "FLIR_04598.png\n",
      "FLIR_00306.png\n",
      "FLIR_04593.png\n",
      "FLIR_04215.png\n",
      "FLIR_04514.png\n",
      "FLIR_04285.png\n",
      "FLIR_05201.png\n",
      "FLIR_04269.png\n",
      "FLIR_01274.png\n",
      "FLIR_00452.png\n",
      "FLIR_01130.png\n",
      "FLIR_04229.png\n",
      "FLIR_01932.png\n",
      "FLIR_00594.png\n",
      "FLIR_04726.png\n",
      "FLIR_04688.png\n",
      "FLIR_00977.png\n",
      "FLIR_05108.png\n",
      "FLIR_00455.png\n",
      "FLIR_04319.png\n",
      "================================================================================\n",
      "\t EN\t SD\t SF\t MI\tSCD\tVIF\tQabf\tSSIM\n",
      "D3FM\t7.09\t39.29\t13.35\t2.19\t1.81\t0.56\t0.45\t0.98\n",
      "================================================================================\n",
      "评估结果已保存到 evaluation_results_D3FM_.txt 文件中。\n"
     ]
    }
   ],
   "source": [
    "evluate_IVF(\"DDFM\")\n",
    "evluate_IVF(\"D3FM\")\n",
    "\n"
   ]
  }
 ],
 "metadata": {
  "kernelspec": {
   "display_name": "cddfuse",
   "language": "python",
   "name": "python3"
  },
  "language_info": {
   "codemirror_mode": {
    "name": "ipython",
    "version": 3
   },
   "file_extension": ".py",
   "mimetype": "text/x-python",
   "name": "python",
   "nbconvert_exporter": "python",
   "pygments_lexer": "ipython3",
   "version": "3.8.10"
  }
 },
 "nbformat": 4,
 "nbformat_minor": 2
}
